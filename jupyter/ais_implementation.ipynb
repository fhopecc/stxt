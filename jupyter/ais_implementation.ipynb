{
 "cells": [
  {
   "cell_type": "code",
   "execution_count": null,
   "metadata": {
    "scrolled": true
   },
   "outputs": [],
   "source": [
    "#教育基金預算執行分析\n",
    "import pandas as pd\n",
    "pd.options.display.max_colwidth=0 #顯示全部字串\n",
    "overbudget = pd.read_csv(r'D:\\gdrive\\教發108年2月月報\\ais\\資料匯出-20190609113350-超支併決算檔.csv')\n",
    "#補辦預算 supplementary budget\n",
    "#sbudget = pd.read_csv(r'D:\\gdrive\\教發108年2月月報\\ais\\資料匯出-20190609113350-補辦預算檔.csv')\n",
    "#付款憑單 centralized payment\n",
    "cpay = pd.read_csv(r'D:\\gdrive\\教發108年2月月報\\ais\\資料匯出-20190609113350-付款憑單明細檔.csv')\n",
    "#保留申請 reserve budget\n",
    "rbudget = pd.read_csv(r'D:\\gdrive\\教發108年2月月報\\ais\\資料匯出-20190609113350-保留申請檔.csv')\n",
    "rbudget.columns"
   ]
  },
  {
   "cell_type": "code",
   "execution_count": null,
   "metadata": {},
   "outputs": [],
   "source": []
  },
  {
   "cell_type": "code",
   "execution_count": null,
   "metadata": {},
   "outputs": [],
   "source": [
    "rbudget.sort_values('核准文號')"
   ]
  },
  {
   "cell_type": "code",
   "execution_count": null,
   "metadata": {},
   "outputs": [],
   "source": [
    "src = cpay.groupby('經費來源名稱')\n",
    "src.size()"
   ]
  },
  {
   "cell_type": "code",
   "execution_count": null,
   "metadata": {
    "scrolled": true
   },
   "outputs": [],
   "source": [
    "cpay[cpay['經費來源名稱']=='保留款'][['摘要','實付數']].sort_values(\"實付數\",ascending=False)"
   ]
  },
  {
   "cell_type": "code",
   "execution_count": null,
   "metadata": {},
   "outputs": [],
   "source": [
    "#本年度執行以前年度計畫超支併決算補辦預算\n",
    "sbudget[(~sbudget['說明'].str.contains(\"107年|2018\"))      \n",
    "       ][['設備名稱','說明','金額','核准文號']].sort_values(['金額'],ascending=[False])"
   ]
  },
  {
   "cell_type": "code",
   "execution_count": null,
   "metadata": {},
   "outputs": [],
   "source": []
  },
  {
   "cell_type": "code",
   "execution_count": null,
   "metadata": {},
   "outputs": [],
   "source": [
    "#本年度執行以前年度計畫超支併決算\n",
    "overbudget[(~overbudget['案由說明'].str.contains(\"107年|2018\"))\n",
    "          #&(overbudget['用途別代碼'].str.contains(\"M\"))\n",
    "          ].sort_values(['併決算數'],ascending=[False])"
   ]
  }
 ],
 "metadata": {
  "kernelspec": {
   "display_name": "Python 3",
   "language": "python",
   "name": "python3"
  },
  "language_info": {
   "codemirror_mode": {
    "name": "ipython",
    "version": 3
   },
   "file_extension": ".py",
   "mimetype": "text/x-python",
   "name": "python",
   "nbconvert_exporter": "python",
   "pygments_lexer": "ipython3",
   "version": "3.7.2"
  }
 },
 "nbformat": 4,
 "nbformat_minor": 2
}
