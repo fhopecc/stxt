{
 "cells": [
  {
   "cell_type": "code",
   "execution_count": 8,
   "metadata": {},
   "outputs": [
    {
     "name": "stderr",
     "output_type": "stream",
     "text": [
      "c:\\python37\\lib\\site-packages\\IPython\\core\\interactiveshell.py:3044: DtypeWarning: Columns (20) have mixed types. Specify dtype option on import or set low_memory=False.\n",
      "  interactivity=interactivity, compiler=compiler, result=result)\n",
      "b'Skipping line 47907: expected 29 fields, saw 30\\nSkipping line 47911: expected 29 fields, saw 30\\n'\n",
      "b'Skipping line 13272: expected 29 fields, saw 30\\nSkipping line 13273: expected 29 fields, saw 30\\nSkipping line 13286: expected 29 fields, saw 30\\n'\n",
      "b'Skipping line 33241: expected 29 fields, saw 30\\n'\n"
     ]
    },
    {
     "data": {
      "text/plain": [
       "Index(['主管機關代碼', '審計部機關代碼', '機關編碼', '機關名稱', '送審年', '送審月', '年度', '縣市代碼',\n",
       "       '教育部機關代碼', '傳票類別', '傳票類別名稱', '憑單號碼', '細目號碼', '借方科目碼', '摘要', '應付數',\n",
       "       '沖收數', '實付數', '用人費用類別代碼', '用人費用類名稱', '分支計畫代碼', '分支計畫名稱', '用途別代嗎',\n",
       "       '子目代碼', '子目名稱', '請購年度', '請購單編號', '請購單明細', '預計轉入科目代碼', '明細類別', '經費來源',\n",
       "       '經費來源名稱'],\n",
       "      dtype='object')"
      ]
     },
     "execution_count": 8,
     "metadata": {},
     "output_type": "execute_result"
    }
   ],
   "source": [
    "#賠償金未繳庫情形\n",
    "import pandas as pd\n",
    "import numpy as np\n",
    "pd.options.display.max_colwidth=0 #顯示全部字串\n",
    "#付款憑單-集中支付檔-cetralized payment\n",
    "e106 = pd.read_csv(r'c:\\ais\\106\\資料匯出-20190812095742-付款憑單明細檔.csv')\n",
    "e107 = pd.read_csv(r'c:\\ais\\107\\資料匯出-20190615134322-付款憑單明細檔.csv')\n",
    "e108 = pd.read_csv(r'c:\\ais\\108_01_07\\資料匯出-20190827103901-付款憑單明細檔.csv')\n",
    "e = pd.concat([e106,e107,e108],axis=0)\n",
    "#請購單-cetralized payment\n",
    "a106 = pd.read_csv(r'c:\\ais\\106\\資料匯出-20190812095742-請購單明細檔.csv')\n",
    "a107 = pd.read_csv(r'c:\\ais\\107\\資料匯出-20190615134322-請購單明細檔.csv')\n",
    "a108 = pd.read_csv(r'c:\\ais\\108_01_07\\資料匯出-20190827103901-請購單明細檔.csv')\n",
    "a = pd.concat([a106,a107,a108],axis=0)\n",
    "#收入傳票 income\n",
    "i106 = pd.read_csv(r'c:\\ais\\106\\資料匯出-20190812095742-收入傳票明細檔.csv',error_bad_lines=False)\n",
    "i107 = pd.read_csv(r'c:\\ais\\107\\資料匯出-20190615134322-收入傳票明細檔.csv',error_bad_lines=False)\n",
    "i108 = pd.read_csv(r'c:\\ais\\108_01_07\\資料匯出-20190827103901-收入傳票明細檔.csv',error_bad_lines=False)\n",
    "i = pd.concat([i106,i107,i108],axis=0)\n",
    "p106 = pd.read_csv(r'c:\\ais\\106\\資料匯出-20190812095742-明細分類帳.csv')\n",
    "p107 = pd.read_csv(r'c:\\ais\\107\\資料匯出-20190615134322-明細分類帳.csv')\n",
    "p108 = pd.read_csv(r'c:\\ais\\108_01_07\\資料匯出-20190827103901-明細分類帳.csv')\n",
    "p = pd.concat([p106,p107,p108],axis=0)\n",
    "p['傳票年份']=round(p['傳票日期']/10000,0).astype(int)\n",
    "e.columns"
   ]
  },
  {
   "cell_type": "code",
   "execution_count": 28,
   "metadata": {},
   "outputs": [
    {
     "data": {
      "text/plain": [
       "Index(['主管機關代碼', '審計部機關代碼', '機關編碼', '機關名稱', '送審年', '送審月', '年度', '縣市代碼',\n",
       "       '教育部機關代碼', '傳票類別代碼', '傳票類別名稱', '傳票號碼', '序號', '借貸方註記', '傳票日期', '金額',\n",
       "       '摘要', '總帳科目', '用途別代碼', '分支計畫代碼', '分支計畫名稱', '子目代碼', '子目名稱', '過帳日期',\n",
       "       '現金收入', '公庫存款收入', '來源傳票號碼', '固定資產修正用', '報廢或更新前期修正上一期', '用於固定項目傳票(9開頭)',\n",
       "       '經費來源', '經費來源名稱', '傳票年份'],\n",
       "      dtype='object')"
      ]
     },
     "execution_count": 28,
     "metadata": {},
     "output_type": "execute_result"
    }
   ],
   "source": []
  },
  {
   "cell_type": "code",
   "execution_count": 33,
   "metadata": {},
   "outputs": [
    {
     "ename": "MemoryError",
     "evalue": "",
     "output_type": "error",
     "traceback": [
      "\u001b[1;31m---------------------------------------------------------------------------\u001b[0m",
      "\u001b[1;31mMemoryError\u001b[0m                               Traceback (most recent call last)",
      "\u001b[1;32m<ipython-input-33-e3406cd19806>\u001b[0m in \u001b[0;36m<module>\u001b[1;34m\u001b[0m\n\u001b[0;32m      1\u001b[0m p[p['摘要'].str.contains('禮品|繳回|結餘',na=False)\n\u001b[0;32m      2\u001b[0m  \u001b[1;33m&\u001b[0m\u001b[0mp\u001b[0m\u001b[1;33m[\u001b[0m\u001b[1;34m'總帳科目'\u001b[0m\u001b[1;33m]\u001b[0m\u001b[1;33m.\u001b[0m\u001b[0mstr\u001b[0m\u001b[1;33m.\u001b[0m\u001b[0mcontains\u001b[0m\u001b[1;33m(\u001b[0m\u001b[1;34m'2123'\u001b[0m\u001b[1;33m)\u001b[0m\u001b[1;33m\u001b[0m\u001b[1;33m\u001b[0m\u001b[0m\n\u001b[1;32m----> 3\u001b[1;33m  \u001b[1;33m&\u001b[0m\u001b[0mp\u001b[0m\u001b[1;33m[\u001b[0m\u001b[1;34m'子目名稱'\u001b[0m\u001b[1;33m]\u001b[0m\u001b[1;33m.\u001b[0m\u001b[0mstr\u001b[0m\u001b[1;33m.\u001b[0m\u001b[0mcontains\u001b[0m\u001b[1;33m(\u001b[0m\u001b[1;34m'捐|募'\u001b[0m\u001b[1;33m)\u001b[0m\u001b[1;33m\u001b[0m\u001b[1;33m\u001b[0m\u001b[0m\n\u001b[0m\u001b[0;32m      4\u001b[0m  \u001b[1;31m#&(~p['子目名稱'].str.contains('教育處|經濟補助|績優社團獎勵|謝師',na=False))\u001b[0m\u001b[1;33m\u001b[0m\u001b[1;33m\u001b[0m\u001b[1;33m\u001b[0m\u001b[0m\n\u001b[0;32m      5\u001b[0m  \u001b[1;31m#&(~p['摘要'].str.contains('畢業|運動會',na=False))\u001b[0m\u001b[1;33m\u001b[0m\u001b[1;33m\u001b[0m\u001b[1;33m\u001b[0m\u001b[0m\n",
      "\u001b[1;32mc:\\python37\\lib\\site-packages\\pandas\\core\\frame.py\u001b[0m in \u001b[0;36m__getitem__\u001b[1;34m(self, key)\u001b[0m\n\u001b[0;32m   2916\u001b[0m         \u001b[1;31m# Do we have a (boolean) 1d indexer?\u001b[0m\u001b[1;33m\u001b[0m\u001b[1;33m\u001b[0m\u001b[1;33m\u001b[0m\u001b[0m\n\u001b[0;32m   2917\u001b[0m         \u001b[1;32mif\u001b[0m \u001b[0mcom\u001b[0m\u001b[1;33m.\u001b[0m\u001b[0mis_bool_indexer\u001b[0m\u001b[1;33m(\u001b[0m\u001b[0mkey\u001b[0m\u001b[1;33m)\u001b[0m\u001b[1;33m:\u001b[0m\u001b[1;33m\u001b[0m\u001b[1;33m\u001b[0m\u001b[0m\n\u001b[1;32m-> 2918\u001b[1;33m             \u001b[1;32mreturn\u001b[0m \u001b[0mself\u001b[0m\u001b[1;33m.\u001b[0m\u001b[0m_getitem_bool_array\u001b[0m\u001b[1;33m(\u001b[0m\u001b[0mkey\u001b[0m\u001b[1;33m)\u001b[0m\u001b[1;33m\u001b[0m\u001b[1;33m\u001b[0m\u001b[0m\n\u001b[0m\u001b[0;32m   2919\u001b[0m \u001b[1;33m\u001b[0m\u001b[0m\n\u001b[0;32m   2920\u001b[0m         \u001b[1;31m# We are left with two options: a single key, and a collection of keys,\u001b[0m\u001b[1;33m\u001b[0m\u001b[1;33m\u001b[0m\u001b[1;33m\u001b[0m\u001b[0m\n",
      "\u001b[1;32mc:\\python37\\lib\\site-packages\\pandas\\core\\frame.py\u001b[0m in \u001b[0;36m_getitem_bool_array\u001b[1;34m(self, key)\u001b[0m\n\u001b[0;32m   2967\u001b[0m         \u001b[0mkey\u001b[0m \u001b[1;33m=\u001b[0m \u001b[0mcheck_bool_indexer\u001b[0m\u001b[1;33m(\u001b[0m\u001b[0mself\u001b[0m\u001b[1;33m.\u001b[0m\u001b[0mindex\u001b[0m\u001b[1;33m,\u001b[0m \u001b[0mkey\u001b[0m\u001b[1;33m)\u001b[0m\u001b[1;33m\u001b[0m\u001b[1;33m\u001b[0m\u001b[0m\n\u001b[0;32m   2968\u001b[0m         \u001b[0mindexer\u001b[0m \u001b[1;33m=\u001b[0m \u001b[0mkey\u001b[0m\u001b[1;33m.\u001b[0m\u001b[0mnonzero\u001b[0m\u001b[1;33m(\u001b[0m\u001b[1;33m)\u001b[0m\u001b[1;33m[\u001b[0m\u001b[1;36m0\u001b[0m\u001b[1;33m]\u001b[0m\u001b[1;33m\u001b[0m\u001b[1;33m\u001b[0m\u001b[0m\n\u001b[1;32m-> 2969\u001b[1;33m         \u001b[1;32mreturn\u001b[0m \u001b[0mself\u001b[0m\u001b[1;33m.\u001b[0m\u001b[0m_take\u001b[0m\u001b[1;33m(\u001b[0m\u001b[0mindexer\u001b[0m\u001b[1;33m,\u001b[0m \u001b[0maxis\u001b[0m\u001b[1;33m=\u001b[0m\u001b[1;36m0\u001b[0m\u001b[1;33m)\u001b[0m\u001b[1;33m\u001b[0m\u001b[1;33m\u001b[0m\u001b[0m\n\u001b[0m\u001b[0;32m   2970\u001b[0m \u001b[1;33m\u001b[0m\u001b[0m\n\u001b[0;32m   2971\u001b[0m     \u001b[1;32mdef\u001b[0m \u001b[0m_getitem_multilevel\u001b[0m\u001b[1;33m(\u001b[0m\u001b[0mself\u001b[0m\u001b[1;33m,\u001b[0m \u001b[0mkey\u001b[0m\u001b[1;33m)\u001b[0m\u001b[1;33m:\u001b[0m\u001b[1;33m\u001b[0m\u001b[1;33m\u001b[0m\u001b[0m\n",
      "\u001b[1;32mc:\\python37\\lib\\site-packages\\pandas\\core\\generic.py\u001b[0m in \u001b[0;36m_take\u001b[1;34m(self, indices, axis, is_copy)\u001b[0m\n\u001b[0;32m   3353\u001b[0m         \u001b[0mnumpy\u001b[0m\u001b[1;33m.\u001b[0m\u001b[0mtake\u001b[0m\u001b[1;33m\u001b[0m\u001b[1;33m\u001b[0m\u001b[0m\n\u001b[0;32m   3354\u001b[0m         \"\"\"\n\u001b[1;32m-> 3355\u001b[1;33m         \u001b[0mself\u001b[0m\u001b[1;33m.\u001b[0m\u001b[0m_consolidate_inplace\u001b[0m\u001b[1;33m(\u001b[0m\u001b[1;33m)\u001b[0m\u001b[1;33m\u001b[0m\u001b[1;33m\u001b[0m\u001b[0m\n\u001b[0m\u001b[0;32m   3356\u001b[0m \u001b[1;33m\u001b[0m\u001b[0m\n\u001b[0;32m   3357\u001b[0m         new_data = self._data.take(indices,\n",
      "\u001b[1;32mc:\\python37\\lib\\site-packages\\pandas\\core\\generic.py\u001b[0m in \u001b[0;36m_consolidate_inplace\u001b[1;34m(self)\u001b[0m\n\u001b[0;32m   5136\u001b[0m             \u001b[0mself\u001b[0m\u001b[1;33m.\u001b[0m\u001b[0m_data\u001b[0m \u001b[1;33m=\u001b[0m \u001b[0mself\u001b[0m\u001b[1;33m.\u001b[0m\u001b[0m_data\u001b[0m\u001b[1;33m.\u001b[0m\u001b[0mconsolidate\u001b[0m\u001b[1;33m(\u001b[0m\u001b[1;33m)\u001b[0m\u001b[1;33m\u001b[0m\u001b[1;33m\u001b[0m\u001b[0m\n\u001b[0;32m   5137\u001b[0m \u001b[1;33m\u001b[0m\u001b[0m\n\u001b[1;32m-> 5138\u001b[1;33m         \u001b[0mself\u001b[0m\u001b[1;33m.\u001b[0m\u001b[0m_protect_consolidate\u001b[0m\u001b[1;33m(\u001b[0m\u001b[0mf\u001b[0m\u001b[1;33m)\u001b[0m\u001b[1;33m\u001b[0m\u001b[1;33m\u001b[0m\u001b[0m\n\u001b[0m\u001b[0;32m   5139\u001b[0m \u001b[1;33m\u001b[0m\u001b[0m\n\u001b[0;32m   5140\u001b[0m     \u001b[1;32mdef\u001b[0m \u001b[0m_consolidate\u001b[0m\u001b[1;33m(\u001b[0m\u001b[0mself\u001b[0m\u001b[1;33m,\u001b[0m \u001b[0minplace\u001b[0m\u001b[1;33m=\u001b[0m\u001b[1;32mFalse\u001b[0m\u001b[1;33m)\u001b[0m\u001b[1;33m:\u001b[0m\u001b[1;33m\u001b[0m\u001b[1;33m\u001b[0m\u001b[0m\n",
      "\u001b[1;32mc:\\python37\\lib\\site-packages\\pandas\\core\\generic.py\u001b[0m in \u001b[0;36m_protect_consolidate\u001b[1;34m(self, f)\u001b[0m\n\u001b[0;32m   5125\u001b[0m         \"\"\"\n\u001b[0;32m   5126\u001b[0m         \u001b[0mblocks_before\u001b[0m \u001b[1;33m=\u001b[0m \u001b[0mlen\u001b[0m\u001b[1;33m(\u001b[0m\u001b[0mself\u001b[0m\u001b[1;33m.\u001b[0m\u001b[0m_data\u001b[0m\u001b[1;33m.\u001b[0m\u001b[0mblocks\u001b[0m\u001b[1;33m)\u001b[0m\u001b[1;33m\u001b[0m\u001b[1;33m\u001b[0m\u001b[0m\n\u001b[1;32m-> 5127\u001b[1;33m         \u001b[0mresult\u001b[0m \u001b[1;33m=\u001b[0m \u001b[0mf\u001b[0m\u001b[1;33m(\u001b[0m\u001b[1;33m)\u001b[0m\u001b[1;33m\u001b[0m\u001b[1;33m\u001b[0m\u001b[0m\n\u001b[0m\u001b[0;32m   5128\u001b[0m         \u001b[1;32mif\u001b[0m \u001b[0mlen\u001b[0m\u001b[1;33m(\u001b[0m\u001b[0mself\u001b[0m\u001b[1;33m.\u001b[0m\u001b[0m_data\u001b[0m\u001b[1;33m.\u001b[0m\u001b[0mblocks\u001b[0m\u001b[1;33m)\u001b[0m \u001b[1;33m!=\u001b[0m \u001b[0mblocks_before\u001b[0m\u001b[1;33m:\u001b[0m\u001b[1;33m\u001b[0m\u001b[1;33m\u001b[0m\u001b[0m\n\u001b[0;32m   5129\u001b[0m             \u001b[0mself\u001b[0m\u001b[1;33m.\u001b[0m\u001b[0m_clear_item_cache\u001b[0m\u001b[1;33m(\u001b[0m\u001b[1;33m)\u001b[0m\u001b[1;33m\u001b[0m\u001b[1;33m\u001b[0m\u001b[0m\n",
      "\u001b[1;32mc:\\python37\\lib\\site-packages\\pandas\\core\\generic.py\u001b[0m in \u001b[0;36mf\u001b[1;34m()\u001b[0m\n\u001b[0;32m   5134\u001b[0m \u001b[1;33m\u001b[0m\u001b[0m\n\u001b[0;32m   5135\u001b[0m         \u001b[1;32mdef\u001b[0m \u001b[0mf\u001b[0m\u001b[1;33m(\u001b[0m\u001b[1;33m)\u001b[0m\u001b[1;33m:\u001b[0m\u001b[1;33m\u001b[0m\u001b[1;33m\u001b[0m\u001b[0m\n\u001b[1;32m-> 5136\u001b[1;33m             \u001b[0mself\u001b[0m\u001b[1;33m.\u001b[0m\u001b[0m_data\u001b[0m \u001b[1;33m=\u001b[0m \u001b[0mself\u001b[0m\u001b[1;33m.\u001b[0m\u001b[0m_data\u001b[0m\u001b[1;33m.\u001b[0m\u001b[0mconsolidate\u001b[0m\u001b[1;33m(\u001b[0m\u001b[1;33m)\u001b[0m\u001b[1;33m\u001b[0m\u001b[1;33m\u001b[0m\u001b[0m\n\u001b[0m\u001b[0;32m   5137\u001b[0m \u001b[1;33m\u001b[0m\u001b[0m\n\u001b[0;32m   5138\u001b[0m         \u001b[0mself\u001b[0m\u001b[1;33m.\u001b[0m\u001b[0m_protect_consolidate\u001b[0m\u001b[1;33m(\u001b[0m\u001b[0mf\u001b[0m\u001b[1;33m)\u001b[0m\u001b[1;33m\u001b[0m\u001b[1;33m\u001b[0m\u001b[0m\n",
      "\u001b[1;32mc:\\python37\\lib\\site-packages\\pandas\\core\\internals\\managers.py\u001b[0m in \u001b[0;36mconsolidate\u001b[1;34m(self)\u001b[0m\n\u001b[0;32m    922\u001b[0m         \u001b[0mbm\u001b[0m \u001b[1;33m=\u001b[0m \u001b[0mself\u001b[0m\u001b[1;33m.\u001b[0m\u001b[0m__class__\u001b[0m\u001b[1;33m(\u001b[0m\u001b[0mself\u001b[0m\u001b[1;33m.\u001b[0m\u001b[0mblocks\u001b[0m\u001b[1;33m,\u001b[0m \u001b[0mself\u001b[0m\u001b[1;33m.\u001b[0m\u001b[0maxes\u001b[0m\u001b[1;33m)\u001b[0m\u001b[1;33m\u001b[0m\u001b[1;33m\u001b[0m\u001b[0m\n\u001b[0;32m    923\u001b[0m         \u001b[0mbm\u001b[0m\u001b[1;33m.\u001b[0m\u001b[0m_is_consolidated\u001b[0m \u001b[1;33m=\u001b[0m \u001b[1;32mFalse\u001b[0m\u001b[1;33m\u001b[0m\u001b[1;33m\u001b[0m\u001b[0m\n\u001b[1;32m--> 924\u001b[1;33m         \u001b[0mbm\u001b[0m\u001b[1;33m.\u001b[0m\u001b[0m_consolidate_inplace\u001b[0m\u001b[1;33m(\u001b[0m\u001b[1;33m)\u001b[0m\u001b[1;33m\u001b[0m\u001b[1;33m\u001b[0m\u001b[0m\n\u001b[0m\u001b[0;32m    925\u001b[0m         \u001b[1;32mreturn\u001b[0m \u001b[0mbm\u001b[0m\u001b[1;33m\u001b[0m\u001b[1;33m\u001b[0m\u001b[0m\n\u001b[0;32m    926\u001b[0m \u001b[1;33m\u001b[0m\u001b[0m\n",
      "\u001b[1;32mc:\\python37\\lib\\site-packages\\pandas\\core\\internals\\managers.py\u001b[0m in \u001b[0;36m_consolidate_inplace\u001b[1;34m(self)\u001b[0m\n\u001b[0;32m    927\u001b[0m     \u001b[1;32mdef\u001b[0m \u001b[0m_consolidate_inplace\u001b[0m\u001b[1;33m(\u001b[0m\u001b[0mself\u001b[0m\u001b[1;33m)\u001b[0m\u001b[1;33m:\u001b[0m\u001b[1;33m\u001b[0m\u001b[1;33m\u001b[0m\u001b[0m\n\u001b[0;32m    928\u001b[0m         \u001b[1;32mif\u001b[0m \u001b[1;32mnot\u001b[0m \u001b[0mself\u001b[0m\u001b[1;33m.\u001b[0m\u001b[0mis_consolidated\u001b[0m\u001b[1;33m(\u001b[0m\u001b[1;33m)\u001b[0m\u001b[1;33m:\u001b[0m\u001b[1;33m\u001b[0m\u001b[1;33m\u001b[0m\u001b[0m\n\u001b[1;32m--> 929\u001b[1;33m             \u001b[0mself\u001b[0m\u001b[1;33m.\u001b[0m\u001b[0mblocks\u001b[0m \u001b[1;33m=\u001b[0m \u001b[0mtuple\u001b[0m\u001b[1;33m(\u001b[0m\u001b[0m_consolidate\u001b[0m\u001b[1;33m(\u001b[0m\u001b[0mself\u001b[0m\u001b[1;33m.\u001b[0m\u001b[0mblocks\u001b[0m\u001b[1;33m)\u001b[0m\u001b[1;33m)\u001b[0m\u001b[1;33m\u001b[0m\u001b[1;33m\u001b[0m\u001b[0m\n\u001b[0m\u001b[0;32m    930\u001b[0m             \u001b[0mself\u001b[0m\u001b[1;33m.\u001b[0m\u001b[0m_is_consolidated\u001b[0m \u001b[1;33m=\u001b[0m \u001b[1;32mTrue\u001b[0m\u001b[1;33m\u001b[0m\u001b[1;33m\u001b[0m\u001b[0m\n\u001b[0;32m    931\u001b[0m             \u001b[0mself\u001b[0m\u001b[1;33m.\u001b[0m\u001b[0m_known_consolidated\u001b[0m \u001b[1;33m=\u001b[0m \u001b[1;32mTrue\u001b[0m\u001b[1;33m\u001b[0m\u001b[1;33m\u001b[0m\u001b[0m\n",
      "\u001b[1;32mc:\\python37\\lib\\site-packages\\pandas\\core\\internals\\managers.py\u001b[0m in \u001b[0;36m_consolidate\u001b[1;34m(blocks)\u001b[0m\n\u001b[0;32m   1897\u001b[0m     \u001b[1;32mfor\u001b[0m \u001b[1;33m(\u001b[0m\u001b[0m_can_consolidate\u001b[0m\u001b[1;33m,\u001b[0m \u001b[0mdtype\u001b[0m\u001b[1;33m)\u001b[0m\u001b[1;33m,\u001b[0m \u001b[0mgroup_blocks\u001b[0m \u001b[1;32min\u001b[0m \u001b[0mgrouper\u001b[0m\u001b[1;33m:\u001b[0m\u001b[1;33m\u001b[0m\u001b[1;33m\u001b[0m\u001b[0m\n\u001b[0;32m   1898\u001b[0m         merged_blocks = _merge_blocks(list(group_blocks), dtype=dtype,\n\u001b[1;32m-> 1899\u001b[1;33m                                       _can_consolidate=_can_consolidate)\n\u001b[0m\u001b[0;32m   1900\u001b[0m         \u001b[0mnew_blocks\u001b[0m \u001b[1;33m=\u001b[0m \u001b[0m_extend_blocks\u001b[0m\u001b[1;33m(\u001b[0m\u001b[0mmerged_blocks\u001b[0m\u001b[1;33m,\u001b[0m \u001b[0mnew_blocks\u001b[0m\u001b[1;33m)\u001b[0m\u001b[1;33m\u001b[0m\u001b[1;33m\u001b[0m\u001b[0m\n\u001b[0;32m   1901\u001b[0m     \u001b[1;32mreturn\u001b[0m \u001b[0mnew_blocks\u001b[0m\u001b[1;33m\u001b[0m\u001b[1;33m\u001b[0m\u001b[0m\n",
      "\u001b[1;32mc:\\python37\\lib\\site-packages\\pandas\\core\\internals\\blocks.py\u001b[0m in \u001b[0;36m_merge_blocks\u001b[1;34m(blocks, dtype, _can_consolidate)\u001b[0m\n\u001b[0;32m   3144\u001b[0m         \u001b[1;31m# combination of those slices is a slice, too.\u001b[0m\u001b[1;33m\u001b[0m\u001b[1;33m\u001b[0m\u001b[1;33m\u001b[0m\u001b[0m\n\u001b[0;32m   3145\u001b[0m         \u001b[0mnew_mgr_locs\u001b[0m \u001b[1;33m=\u001b[0m \u001b[0mnp\u001b[0m\u001b[1;33m.\u001b[0m\u001b[0mconcatenate\u001b[0m\u001b[1;33m(\u001b[0m\u001b[1;33m[\u001b[0m\u001b[0mb\u001b[0m\u001b[1;33m.\u001b[0m\u001b[0mmgr_locs\u001b[0m\u001b[1;33m.\u001b[0m\u001b[0mas_array\u001b[0m \u001b[1;32mfor\u001b[0m \u001b[0mb\u001b[0m \u001b[1;32min\u001b[0m \u001b[0mblocks\u001b[0m\u001b[1;33m]\u001b[0m\u001b[1;33m)\u001b[0m\u001b[1;33m\u001b[0m\u001b[1;33m\u001b[0m\u001b[0m\n\u001b[1;32m-> 3146\u001b[1;33m         \u001b[0mnew_values\u001b[0m \u001b[1;33m=\u001b[0m \u001b[0mnp\u001b[0m\u001b[1;33m.\u001b[0m\u001b[0mvstack\u001b[0m\u001b[1;33m(\u001b[0m\u001b[1;33m[\u001b[0m\u001b[0mb\u001b[0m\u001b[1;33m.\u001b[0m\u001b[0mvalues\u001b[0m \u001b[1;32mfor\u001b[0m \u001b[0mb\u001b[0m \u001b[1;32min\u001b[0m \u001b[0mblocks\u001b[0m\u001b[1;33m]\u001b[0m\u001b[1;33m)\u001b[0m\u001b[1;33m\u001b[0m\u001b[1;33m\u001b[0m\u001b[0m\n\u001b[0m\u001b[0;32m   3147\u001b[0m \u001b[1;33m\u001b[0m\u001b[0m\n\u001b[0;32m   3148\u001b[0m         \u001b[0margsort\u001b[0m \u001b[1;33m=\u001b[0m \u001b[0mnp\u001b[0m\u001b[1;33m.\u001b[0m\u001b[0margsort\u001b[0m\u001b[1;33m(\u001b[0m\u001b[0mnew_mgr_locs\u001b[0m\u001b[1;33m)\u001b[0m\u001b[1;33m\u001b[0m\u001b[1;33m\u001b[0m\u001b[0m\n",
      "\u001b[1;32mc:\\python37\\lib\\site-packages\\numpy\\core\\shape_base.py\u001b[0m in \u001b[0;36mvstack\u001b[1;34m(tup)\u001b[0m\n\u001b[0;32m    281\u001b[0m     \"\"\"\n\u001b[0;32m    282\u001b[0m     \u001b[0m_warn_for_nonsequence\u001b[0m\u001b[1;33m(\u001b[0m\u001b[0mtup\u001b[0m\u001b[1;33m)\u001b[0m\u001b[1;33m\u001b[0m\u001b[1;33m\u001b[0m\u001b[0m\n\u001b[1;32m--> 283\u001b[1;33m     \u001b[1;32mreturn\u001b[0m \u001b[0m_nx\u001b[0m\u001b[1;33m.\u001b[0m\u001b[0mconcatenate\u001b[0m\u001b[1;33m(\u001b[0m\u001b[1;33m[\u001b[0m\u001b[0matleast_2d\u001b[0m\u001b[1;33m(\u001b[0m\u001b[0m_m\u001b[0m\u001b[1;33m)\u001b[0m \u001b[1;32mfor\u001b[0m \u001b[0m_m\u001b[0m \u001b[1;32min\u001b[0m \u001b[0mtup\u001b[0m\u001b[1;33m]\u001b[0m\u001b[1;33m,\u001b[0m \u001b[1;36m0\u001b[0m\u001b[1;33m)\u001b[0m\u001b[1;33m\u001b[0m\u001b[1;33m\u001b[0m\u001b[0m\n\u001b[0m\u001b[0;32m    284\u001b[0m \u001b[1;33m\u001b[0m\u001b[0m\n\u001b[0;32m    285\u001b[0m \u001b[1;33m\u001b[0m\u001b[0m\n",
      "\u001b[1;31mMemoryError\u001b[0m: "
     ]
    }
   ],
   "source": [
    "p[p['摘要'].str.contains('禮品|繳回|結餘',na=False)\n",
    " &p['總帳科目'].str.contains('2123')\n",
    " &p['子目名稱'].str.contains('捐|募')\n",
    " #&(~p['子目名稱'].str.contains('教育處|經濟補助|績優社團獎勵|謝師',na=False))\n",
    " #&(~p['摘要'].str.contains('畢業|運動會',na=False))\n",
    " ][['機關名稱', '年度', '傳票類別名稱', '傳票號碼', '總帳科目', '子目名稱', '摘要', '金額']]\n"
   ]
  },
  {
   "cell_type": "code",
   "execution_count": null,
   "metadata": {},
   "outputs": [],
   "source": [
    "#捐款支用情形\n",
    "#106至108年期間應付代收子目期初轉入明細\n",
    "cb = p[p['總帳科目'].str.contains('2123',na=False)\n",
    "      &p['摘要'].str.contains('結轉|上期|結帳',na=False)\n",
    "      ][['機關名稱', '傳票年份', '傳票類別名稱', '傳票號碼', '總帳科目', '子目名稱',  '摘要', '金額'\n",
    "      ]].sort_values(['機關名稱'],ascending=[False])\n",
    "cb = cb.rename({'金額': '期初轉入數'}, axis='columns')\n",
    "cb3y = pd.DataFrame(pd.pivot_table(cb\n",
    "                                  ,index=['機關名稱','子目名稱']\n",
    "                                  ,columns=['傳票年份'],values=['期初轉入數']\n",
    "                                  ,aggfunc=np.sum\n",
    "                                  ,fill_value=0\n",
    "                                  ).astype('int').to_records()\n",
    "                  )\n",
    "#106至108年期間應付代收子目支用明細\n",
    "ce = p[p['總帳科目'].str.contains('2123',na=False)\n",
    "      &p['借貸方註記']==1\n",
    "      ][['機關名稱', '傳票年份', '傳票類別名稱', '傳票號碼', '總帳科目', '子目名稱',  '摘要', '金額'\n",
    "        ]].sort_values(['機關名稱'],ascending=[False])\n",
    "ce = ce.rename({'金額': '支用數'}, axis='columns')\n",
    "ce3y = pd.DataFrame(pd.pivot_table(ce\n",
    "                                  ,index=['機關名稱','子目名稱']\n",
    "                                  ,columns=['傳票年份'],values=['支用數']\n",
    "                                  ,aggfunc=np.sum\n",
    "                                  ,fill_value=0\n",
    "                                  ).astype('int').to_records()\n",
    "                   )\n",
    "# 106至108年應付代收科目支用率未達1成明細\n",
    "c3y = pd.merge(cb3y, ce3y, how='outer', on=['機關名稱','子目名稱'])\n",
    "c3y[\"('支用數', 106)\"].fillna(0, inplace=True)\n",
    "c3y[\"('支用數', 107)\"].fillna(0, inplace=True)\n",
    "c3y[\"('支用數', 108)\"].fillna(0, inplace=True)\n",
    "c3y[\"106支用率\"] = c3y[\"('支用數', 106)\"]/c3y[\"('期初轉入數', 106)\"]\n",
    "c3y[\"107支用率\"] = c3y[\"('支用數', 107)\"]/c3y[\"('期初轉入數', 107)\"]\n",
    "c3y[\"108支用率\"] = c3y[\"('支用數', 108)\"]/c3y[\"('期初轉入數', 108)\"]\n",
    "c3y[\"106支用率\"].fillna(0, inplace=True)\n",
    "c3y[\"107支用率\"].fillna(0, inplace=True)\n",
    "c3y[\"108支用率\"].fillna(0, inplace=True)\n",
    "\n",
    "c3y[(c3y['子目名稱'].str.contains(\"非政府機關委託|非政府機關補助|助學金|發展教育基金|教育發展|獎學金|獎助金\")\n",
    "    |c3y['子目名稱'].str.contains(\"畢業|教育儲蓄專戶|富邦基金會學童認養金|慈善|贊助|民間團體委託|捐贈|捐資興學|捐助|同濟會|急難慰問金\")\n",
    "    |c3y['子目名稱'].str.contains(\"玉山文教基金會|仁愛|指定用途\")      \n",
    "    )\n",
    "   & (~c3y[\"機關名稱\"].str.contains(\"花蓮縣政府教育處\"))\n",
    "   & (c3y[\"('期初轉入數', 108)\"] > 0)\n",
    "   & (c3y[\"108支用率\"] < 0.1)\n",
    "   & (c3y[\"107支用率\"] < 0.1)\n",
    "   & (c3y[\"106支用率\"] < 0.1)\n",
    "   ]#.to_csv(\"low_used_donations.csv\")"
   ]
  },
  {
   "cell_type": "code",
   "execution_count": 13,
   "metadata": {},
   "outputs": [],
   "source": [
    "#前2年核有期初轉入數惟未有支用數之代收代付或代辦、保管款科目明細\n",
    "c3y[(c3y[\"('期初轉入數', 108)\"] > 0)\n",
    "   &(c3y[\"('期初轉入數', 107)\"] > 0)\n",
    "   &(c3y[\"('支用數', 108)\"]  == 0)\n",
    "   &(c3y[\"('支用數', 107)\"]  == 0)\n",
    "   &(~c3y['子目名稱'].str.contains(\"非政府機關委託|非政府機關補助|助學金|發展教育基金|教育發展|獎學金|獎助金\")\n",
    "    &~c3y['子目名稱'].str.contains(\"畢業|教育儲蓄專戶|富邦基金會學童認養金|慈善|贊助|民間團體委託|捐贈|捐資興學|捐助|同濟會|急難慰問金\")\n",
    "    &~c3y['子目名稱'].str.contains(\"玉山文教基金會|仁愛基金|指定用途\")\n",
    "    &~c3y['子目名稱'].str.contains(\"代扣|勞保|勞退|退休|健保|退撫|所得稅|公保|預付|代扣款|補充保費|值勤費\")         \n",
    "    )].to_csv(\"unused_collections.csv\")"
   ]
  },
  {
   "cell_type": "code",
   "execution_count": null,
   "metadata": {
    "scrolled": false
   },
   "outputs": [],
   "source": [
    "#各校賠償款收入繳庫情形\n",
    "#各校代收賠償款專戶期初餘額情形\n",
    "#damage incomne collections\n",
    "db = p[p['子目名稱'].str.contains('賠償|損害',na=False)\n",
    "      &p['摘要'].str.contains('結轉|上期|結帳',na=False)\n",
    "      &(p['傳票年份'] == 106)\n",
    "      ][['機關名稱', '傳票年份', '傳票類別名稱', '傳票號碼', '總帳科目', '子目名稱',  '摘要', '金額'\n",
    "       ]].sort_values(['機關名稱', '傳票年份', '傳票號碼'],ascending=[False, True, True])\n",
    "db = db.rename({'金額': '期初轉入數','傳票年份':'年度'}, axis='columns')\n",
    "db.to_csv(\"damage_106_balance.csv\")\n",
    "\n",
    "db3y = pd.DataFrame(pd.pivot_table(db\n",
    "                                  ,index=['機關名稱']\n",
    "                                  ,values=['期初轉入數']\n",
    "                                  ,aggfunc=np.sum \n",
    "                                  ,fill_value=0\n",
    "                                  ).astype('int').to_records())\n",
    "\n",
    "#各校代收賠償款專戶收入情形\n",
    "#damage incomne collections\n",
    "di = i[(i['摘要'].str.contains('賠|損|毀|公物',na=False)\n",
    "       |i['子目名稱'].str.contains('賠|損|毀|公物',na=False)\n",
    "       )\n",
    "       &~i['子目名稱'].str.contains('保證|補助|強制',na=False)\n",
    "       &~i['摘要'].str.contains('督導費|工程|腸胃不適|學生醫療',na=False)\n",
    "       &~i['貸方科目代碼'].str.contains('4Y',na=False)\n",
    "      ][['機關名稱','年度', '傳票號碼','貸方科目代碼', '子目名稱',  '摘要', '貸方金額',\n",
    "      ]].sort_values(['機關名稱', '年度', '傳票號碼'],ascending=[False, True, True])\n",
    "di = di.rename({'貸方金額':'收入數'},axis='columns')\n",
    "di['傳票類別名稱']='收入傳票'\n",
    "di.to_csv(\"damage_income.csv\")\n",
    "di3y = pd.DataFrame(pd.pivot_table(di\n",
    "                                  ,index=['機關名稱']\n",
    "                                  ,values=['收入數']\n",
    "                                  ,aggfunc=np.sum \n",
    "                                  ,fill_value=0\n",
    "                                  ).astype('int').to_records())\n",
    "#各校代收賠償款專戶支出情形\n",
    "de = p[(p['摘要'].str.contains('賠|公物',na=False)\n",
    "       |p['子目名稱'].str.contains('賠|毀|公物',na=False)\n",
    "       )\n",
    "      &~p['子目名稱'].str.contains('保證|補助',na=False)\n",
    "      &~p['摘要'].str.contains('更正|轉正|督導費|工程|腸胃不適|學生醫療|研習|給付差額',na=False) \n",
    "      &p['總帳科目'].str.contains('2123',na=False)\n",
    "      &p['借貸方註記']==1\n",
    "      ][['機關名稱', '傳票年份', '傳票類別名稱', '傳票號碼', '總帳科目', '子目名稱',  '摘要', '金額'\n",
    "       ]].sort_values(['機關名稱', '傳票年份', '傳票號碼'],ascending=[False, True, True])\n",
    "de = de.rename({'金額': '支用數','傳票年份':'年度'}, axis='columns')\n",
    "de.to_csv(\"damage_expend.csv\")\n",
    "de3y = pd.DataFrame(pd.pivot_table(de\n",
    "                                  ,index=['機關名稱']\n",
    "                                  ,values=['支用數']\n",
    "                                  ,aggfunc=np.sum \n",
    "                                  ,fill_value=0\n",
    "                                  ).astype('int').to_records())\n",
    "\n",
    "#各校代收賠償款專戶繳庫情形\n",
    "dt = p[(p['摘要'].str.contains('賠|公物',na=False)\n",
    "       |p['子目名稱'].str.contains('賠|毀|公物',na=False)\n",
    "       )\n",
    "      &~p['子目名稱'].str.contains('保證|補助',na=False)\n",
    "      &~p['摘要'].str.contains('更正|轉正|督導費|工程|腸胃不適|學生醫療|研習|給付差額',na=False) \n",
    "      &p['總帳科目'].str.contains('2123',na=False)\n",
    "      &p['摘要'].str.contains('庫',na=False) \n",
    "      &p['借貸方註記']==1\n",
    "      ][['機關名稱', '傳票年份', '傳票類別名稱', '傳票號碼', '總帳科目', '子目名稱',  '摘要', '金額'\n",
    "       ]].sort_values(['機關名稱', '傳票年份', '傳票號碼'],ascending=[False, True, True])\n",
    "dt = dt.rename({'金額': '繳庫數','傳票年份':'年度'}, axis='columns')\n",
    "dt.to_csv(\"damage_treasuary.csv\")\n",
    "dt3y = pd.DataFrame(pd.pivot_table(dt\n",
    "                                  ,index=['機關名稱']\n",
    "                                  ,values=['繳庫數']\n",
    "                                  ,aggfunc=np.sum \n",
    "                                  ,fill_value=0\n",
    "                                  ).astype('int').to_records())\n",
    "\n",
    "d3y = pd.merge(di3y, de3y, how='outer', on=['機關名稱'])\n",
    "d3y = pd.merge(d3y,  dt3y, how='outer', on=['機關名稱'])\n",
    "d3y = pd.merge(d3y,  db3y, how='outer', on=['機關名稱'])\n",
    "d3y = d3y.fillna(0)\n",
    "d3y['代收總數']=d3y['期初轉入數']+d3y['收入數']\n",
    "tot = d3y.sum(numeric_only=True)\n",
    "tot['機關名稱']='合計'\n",
    "tot = pd.DataFrame(tot)\n",
    "tot = tot.T\n",
    "d3y = pd.concat([tot, d3y]).reset_index()\n",
    "#d3y = d3y.fillna('合計')\n",
    "d3y['支用率']=d3y['支用數']/d3y['代收總數']\n",
    "d3y['繳庫率']=d3y['繳庫數']/d3y['代收總數']\n",
    "d3y =d3y[['機關名稱', '期初轉入數', '收入數', '代收總數', '支用數', '支用率', '繳庫數', '繳庫率']]\n",
    "d3y.to_csv(\"damage_collections.csv\")\n",
    "d3y"
   ]
  },
  {
   "cell_type": "code",
   "execution_count": null,
   "metadata": {},
   "outputs": [],
   "source": [
    "# 106至108年捐款科目支用比率未達1成明細\n",
    "po13y = pd.merge(po3y, p13y, how='left', left_on=['機關名稱','子目名稱'], right_on = ['機關名稱','子目名稱'])\n",
    "po13y[\"('支出額', 106)\"].fillna(0, inplace=True)\n",
    "po13y[\"('支出額', 107)\"].fillna(0, inplace=True)\n",
    "po13y[\"('支出額', 108)\"].fillna(0, inplace=True)\n",
    "po13y[\"106支用比率\"] = po13y[\"('支出額', 106)\"]/po13y[\"('期初餘額', 106)\"]\n",
    "po13y[\"107支用比率\"] = po13y[\"('支出額', 107)\"]/po13y[\"('期初餘額', 107)\"]\n",
    "po13y[\"108支用比率\"] = po13y[\"('支出額', 108)\"]/po13y[\"('期初餘額', 108)\"]\n",
    "po13y[\"106支用比率\"].fillna(0, inplace=True)\n",
    "po13y[\"107支用比率\"].fillna(0, inplace=True)\n",
    "po13y[\"108支用比率\"].fillna(0, inplace=True)\n",
    "po13y\n",
    "po13y[(po3y['子目名稱'].str.contains(\"非政府機關委託|非政府機關補助|助學金|發展教育基金|教育發展|獎學金|獎助金\")\n",
    "       |po3y['子目名稱'].str.contains(\"畢業|教育儲蓄專戶|富邦基金會學童認養金|慈善|贊助|民間團體委託|捐贈|捐資興學|捐助|同濟會|急難慰問金\")\n",
    "       |po3y['子目名稱'].str.contains(\"玉山文教基金會|仁愛|指定用途\")      \n",
    "       )\n",
    "     & (po13y[\"('期初餘額', 108)\"] > 0)\n",
    "     & (po13y[\"108支用比率\"] < 0.1)\n",
    "     & (po13y[\"107支用比率\"] < 0.1)\n",
    "     & (po13y[\"106支用比率\"] < 0.1)\n",
    "     ].to_csv(\"low_used_donations.csv\")\n"
   ]
  },
  {
   "cell_type": "code",
   "execution_count": null,
   "metadata": {},
   "outputs": [],
   "source": [
    "# 前2年核有期初餘額惟未有支用數之代收代付或代辦、保管款科目明細\n",
    "po13y = pd.merge(po3y, p13y, how='left', left_on=['機關名稱','子目名稱'], right_on = ['機關名稱','子目名稱'])\n",
    "po13y[[\"('支出額', 106)\",\"('支出額', 107)\",\"('支出額', 108)\"]].fillna(0, inplace=True)\n",
    "po13y[  (po13y[\"('期初餘額', 108)\"] > 0)\n",
    "      & (po13y[\"('期初餘額', 107)\"] > 0)\n",
    "      & (po13y[\"('支出額', 108)\"]  == 0)\n",
    "      & (po13y[\"('支出額', 107)\"]  == 0)\n",
    "      & (~po3y['子目名稱'].str.contains(\"非政府機關委託|非政府機關補助|助學金|發展教育基金|教育發展|獎學金|獎助金\")\n",
    "        &~po3y['子目名稱'].str.contains(\"畢業|教育儲蓄專戶|富邦基金會學童認養金|慈善|贊助|民間團體委託|捐贈|捐資興學|捐助|同濟會|急難慰問金\")\n",
    "        &~po3y['子目名稱'].str.contains(\"玉山文教基金會|仁愛基金|指定用途\")\n",
    "        &~po3y['子目名稱'].str.contains(\"代扣|勞保|勞退|退休|健保|退撫|所得稅|公保|預付|代扣款|補充保費|值勤費\")         \n",
    "        )\n",
    "     ]"
   ]
  },
  {
   "cell_type": "code",
   "execution_count": null,
   "metadata": {
    "scrolled": false
   },
   "outputs": [],
   "source": [
    "#106至108年期間應付代收子目代辦經費支出紀錄\n",
    "p1 = p[p['子目名稱'].str.contains('應付代收',na=False)\n",
    "      &p['借貸方註記']==1\n",
    "      ][['機關名稱','總帳科目', '子目代碼', '子目名稱', '傳票年份', '摘要', '借貸方註記', '金額',\n",
    "         '來源傳票號碼', '經費來源', '經費來源名稱'\n",
    "        ]\n",
    "       ].sort_values(['機關名稱'],ascending=[False])\n",
    "p1 = p1.rename({'金額': '支出額'}, axis='columns')\n",
    "p13y = pd.DataFrame(pd.pivot_table(p1\n",
    "                                  ,index=['機關名稱','子目名稱']\n",
    "                                  ,columns=['傳票年份'],values=['支出額']\n",
    "                                  ,aggfunc=np.sum\n",
    "                                  ,fill_value=0\n",
    "                                  ).astype('int').to_records()\n",
    "                   )"
   ]
  },
  {
   "cell_type": "code",
   "execution_count": null,
   "metadata": {},
   "outputs": [],
   "source": [
    "#106至108年期間應付代收子目代辦經費期初金額3年均大於1000元者、排除捐款、保管款、代收代付、代扣款、學生代收代辦費用、午餐、基金來源\n",
    "#列出各年份應付代收子目期初金額\n",
    "po = p[p['子目名稱'].str.contains('應付代收',na=False)\n",
    " &p['摘要'].str.contains('結轉|上期|結帳',na=False)\n",
    " ][['機關名稱','總帳科目', '子目代碼', '子目名稱', '傳票年份', '摘要', '借貸方註記', '金額',\n",
    "   '來源傳票號碼', '經費來源', '經費來源名稱'\n",
    "   ]\n",
    "].sort_values(['機關名稱'],ascending=[False])\n",
    "po = po.rename({'金額': '期初餘額'}, axis='columns')\n",
    "po3y = pd.DataFrame(pd.pivot_table(po\n",
    "                                 ,index=['機關名稱','子目名稱']\n",
    "                                 ,columns=['傳票年份'],values=['期初餘額']\n",
    "                                 ,aggr_func=np.sum\n",
    "                                 ,fill_value=0\n",
    "                                 ).astype('int').to_records()\n",
    "                  )\n",
    "po3y[(~po3y['子目名稱'].str.contains(\"非政府機關委託|非政府機關補助|助學金|發展教育基金|教育發展|獎學金|獎助金\")\n",
    "    &~po3y['子目名稱'].str.contains(\"畢業|教育儲蓄專戶|富邦基金會學童認養金|慈善|贊助|民間團體委託|捐贈|捐資興學|捐助|同濟會|急難慰問金\")\n",
    "    &~po3y['子目名稱'].str.contains(\"玉山文教基金會\")\n",
    "    &~po3y['子目名稱'].str.contains(\"學生繳費|幼兒園|幼稚園|簿本費|教科書\")     \n",
    "    &~po3y['子目名稱'].str.contains(\"午餐\") \n",
    "    &~po3y['子目名稱'].str.contains(\"合作社|資源回收|場地設施使用費|租金收入|利息收入|收回薪津\") #基金來源\n",
    "    &~po3y['子目名稱'].str.contains(\"押金|保固金|保證金\")\n",
    "    &~po3y['子目名稱'].str.contains(\"代扣|勞保|勞退|退休|健保|退撫|所得稅|公保|預付|代扣款|補充保費|值勤費\")\n",
    "    &~po3y['子目名稱'].str.contains(\"薪資暫存\")\n",
    "    )\n",
    "   &(po3y[\"('期初餘額', 106)\"]>1000)\n",
    "   &(po3y[\"('期初餘額', 108)\"]>1000)\n",
    "   &(po3y[\"('期初餘額', 107)\"]>1000)\n",
    "   ].sort_values(['機關名稱', '子目名稱', \"('期初餘額', 108)\"], ascending=[False, False, False])"
   ]
  },
  {
   "cell_type": "code",
   "execution_count": null,
   "metadata": {},
   "outputs": [],
   "source": [
    "p[p['子目名稱'].str.contains('應付代收款－代收代付－其他',na=False)\n",
    " &p['機關名稱'].str.contains('光復國民小學',na=False)\n",
    " ][['機關名稱','總帳科目', '子目代碼', '子目名稱', '傳票年份', '摘要', '借貸方註記', '金額',\n",
    "    '來源傳票號碼', '經費來源', '經費來源名稱'\n",
    "   ]]"
   ]
  },
  {
   "cell_type": "code",
   "execution_count": null,
   "metadata": {},
   "outputs": [],
   "source": [
    "#應付代收款項下校務基金用途明細\n",
    "# general donation\n",
    "gd = p[((p['子目名稱'].str.contains('校務發展|校務基金|校務推動|校務推動費|校務經費',na=False))\n",
    "       |(p['摘要'].str.contains('校務發展|校務基金|校務推動|校務推動費|校務經費',na=False)))\n",
    "      &~(p['摘要'].str.contains('上期結轉',na=False))\n",
    "      &(p['借貸方註記']==1)\n",
    "      &(p['總帳科目'].str.contains('2123'))\n",
    "      ]\n",
    "gd[['機關名稱', '傳票日期', '傳票類別名稱', '傳票號碼', '總帳科目', '子目名稱', \"摘要\",'借貸方註記','金額']].to_csv(\"donation_for_general_usage.csv\")"
   ]
  },
  {
   "cell_type": "code",
   "execution_count": null,
   "metadata": {},
   "outputs": [],
   "source": [
    "#應付代收款項下校務基金來源明細\n",
    "# general donation\n",
    "gd = p[((p['子目名稱'].str.contains('校務發展|校務基金|校務推動|校務推動費|校務經費',na=False))\n",
    "       |(p['摘要'].str.contains('校務發展|校務基金|校務推動|校務推動費|校務經費',na=False)))\n",
    "      &~(p['摘要'].str.contains('上期結轉',na=False))\n",
    "      &(p['借貸方註記']==2)\n",
    "      &(p['總帳科目'].str.contains('2123'))\n",
    "      ]\n",
    "gd[['機關名稱', '傳票日期', '傳票類別名稱', '傳票號碼', '總帳科目', '子目名稱', \"摘要\",'借貸方註記','金額']].to_csv(\"general_donation_source.csv\")"
   ]
  },
  {
   "cell_type": "code",
   "execution_count": null,
   "metadata": {},
   "outputs": [],
   "source": [
    "#代收代付校務發展基金機關收支金額\n",
    "pd.pivot_table(gd\n",
    "              ,index=['機關名稱','子目名稱']\n",
    "              ,columns=['借貸方註記']\n",
    "              ,values=['金額']\n",
    "              ,fill_value=0\n",
    "              ).astype('int')"
   ]
  },
  {
   "cell_type": "code",
   "execution_count": null,
   "metadata": {
    "scrolled": false
   },
   "outputs": [],
   "source": [
    "#列出各年份應付代收子目期初金額\n",
    "p[p['子目名稱'].str.contains('應付代收',na=False)\n",
    " &p['摘要'].str.contains('結轉|上期|結帳',na=False)\n",
    " ][['機關名稱','總帳科目', '子目代碼', '子目名稱', '傳票年份', '摘要', '借貸方註記', '金額',\n",
    "   '來源傳票號碼', '經費來源', '經費來源名稱'\n",
    "   ]\n",
    "].sort_values(['機關名稱'],ascending=[False])\n",
    "p3y = pd.DataFrame(pd.pivot_table(p\n",
    "                                 ,index=['機關名稱','子目名稱']\n",
    "                                 ,columns=['傳票年份'],values=['金額'],fill_value=0\n",
    "                                 ).astype('int').to_records()\n",
    "                  )"
   ]
  },
  {
   "cell_type": "code",
   "execution_count": null,
   "metadata": {
    "scrolled": false
   },
   "outputs": [],
   "source": [
    "#106至108年期間應付代收子目期初金額逐年遞增者、排除捐款、補助\n",
    "p3y[(~p3y['子目名稱'].str.contains(\"非政府機關委託補助|足球隊補助費|獎助學金|捐款|教職員工午餐費|拾金不昧|法院執行|幼兒午餐|值日夜經費|教師事病假代課費|值勤薪資|幼兒園-課後留園|幼兒園學生平安保險費|幼兒園學生餐點費|短代外聘教師年終獎金|導師費|優惠存款|臨時人員薪資|勞工退休|法院強制命令|代收代付-所得|代課鐘點費|加班費|兒午餐費|幼兒園材料費|幼兒園-保險費|幼兒園平安保險費|幼兒園-材料費|幼兒園午餐費|幼兒園-點心午餐費|健保|勞保|公保|退輔基金|休假補助款|所得稅|退撫基金|補充保費|薪資所得|勞退|退休準備|活動費|保費|點心費\"))\n",
    "   &(p3y[\"('金額', 106)\"]>0)\n",
    "   &(p3y[\"('金額', 108)\"]>p3y[\"('金額', 107)\"])\n",
    "   &(p3y[\"('金額', 107)\"]>p3y[\"('金額', 106)\"])\n",
    "   ].sort_values(['子目名稱', '機關名稱', \"('金額', 108)\"], ascending=[False, False, False])"
   ]
  },
  {
   "cell_type": "code",
   "execution_count": null,
   "metadata": {},
   "outputs": [],
   "source": [
    "r[r['摘要'].str.contains('賠償收入繳庫',na=False)\n",
    " ][['機關名稱','傳票號碼', '傳票明細序號', '傳票類別代碼', '傳票類別名稱', '子目代碼', '子目名稱'\n",
    "  ,'分支計畫代碼', '分支計畫名稱', '用途別代碼', '預計轉入科目代碼', '預計轉入子目代碼', '預計轉入子目名稱', '委受名稱'\n",
    "  ,'摘要', '貸方金額', '原始憑證種類', '原始憑證號數', '貸方科目代碼', '經費來源', '經費來源名稱']\n",
    "  ]"
   ]
  },
  {
   "cell_type": "code",
   "execution_count": null,
   "metadata": {},
   "outputs": [],
   "source": [
    "ap[(ap['請購金額']==85289)]"
   ]
  },
  {
   "cell_type": "code",
   "execution_count": null,
   "metadata": {},
   "outputs": [],
   "source": [
    "ap[(ap['機關名稱'].str.contains(r\"澔學\",na=False))]"
   ]
  },
  {
   "cell_type": "code",
   "execution_count": null,
   "metadata": {},
   "outputs": [],
   "source": [
    "#服裝費支付員工活動服裝\n",
    "ap[(ap['用途代碼'].str.contains('325'))\n",
    "  &(ap['摘要'].str.contains(\"服裝\"))        \n",
    "  ][['機關名稱','總帳科目代碼', '子目名稱', '分支計畫名稱','用途代碼', '摘要', '請購金額']]"
   ]
  },
  {
   "cell_type": "code",
   "execution_count": null,
   "metadata": {},
   "outputs": [],
   "source": [
    "#以公款支付罰款\n",
    "cp[cp['摘要'].str.contains('罰|滯|違|未足額進用')][['摘要']]"
   ]
  },
  {
   "cell_type": "code",
   "execution_count": null,
   "metadata": {},
   "outputs": [],
   "source": [
    "#是否以非公關費支付餐敘、禮品\n",
    "cp[(cp['摘要'].str.contains(r\"招待|禮|餐\"))\n",
    "   &(~cp['摘要'].str.contains('學校午餐|貧困午餐|稽查|接力|賽|國手|白禮袋|廚工|代扣|設備|餐飲科|明禮|餐廳|慈輝|教室|誤餐|夜輔|廚房|典禮|學生|午餐秘書|姜禮誠|日誌'))\n",
    "   &(~cp['用途別代嗎'].str.contains('291|27F'))\n",
    "   ][['機關名稱','借方科目碼', '分支計畫名稱','用途別代嗎','摘要', '實付數', '預計轉入科目代碼']]"
   ]
  },
  {
   "cell_type": "code",
   "execution_count": null,
   "metadata": {},
   "outputs": [],
   "source": [
    "#是否以非公關費支付餐敘、禮品\n",
    "ap1 = ap[(~ap['用途代碼'].str.contains('291|27F'))\n",
    "        &(ap['摘要'].str.contains(\"招待|禮\"))        \n",
    "        ]\n",
    "ap2[(~ap2['摘要'].str.contains('學校午餐|書法營|畢業|門鎖|試辦計畫|白禮袋|家長|委員|期末|貧困午餐|兒童節|幼兒園|園遊會|稽查|活動|木工班|明禮|禮班|禮堂|接力|賽|國手|廚工|代扣|設備|體育班|義工|志工|餐飲科|餐廳|慈輝|教室|誤餐|夜輔|廚房|典禮|學生|午餐秘書|姜禮誠|日誌'))\n",
    "  ][['機關名稱','總帳科目代碼', '子目名稱', '分支計畫名稱','用途代碼', '摘要', '請購金額']]"
   ]
  },
  {
   "cell_type": "code",
   "execution_count": null,
   "metadata": {},
   "outputs": [],
   "source": [
    "#工程管理費超支\n",
    "p1 = p[p['摘要'].str.contains('花崗國中Q棟',na=False)]\n",
    "p1[~p1['摘要'].str.contains('保證')\n",
    "  ][['機關名稱', '年度'\n",
    "    , '教育部機關代碼', '傳票類別名稱', '傳票號碼', '序號', '借貸方註記', '傳票日期', '金額'\n",
    "    ,'摘要', '總帳科目', '用途別代碼', '分支計畫代碼', '分支計畫名稱', '子目代碼', '子目名稱'\n",
    "    , '過帳日期', '經費來源', '經費來源名稱']]"
   ]
  },
  {
   "cell_type": "code",
   "execution_count": null,
   "metadata": {},
   "outputs": [],
   "source": []
  }
 ],
 "metadata": {
  "kernelspec": {
   "display_name": "Python 3",
   "language": "python",
   "name": "python3"
  },
  "language_info": {
   "codemirror_mode": {
    "name": "ipython",
    "version": 3
   },
   "file_extension": ".py",
   "mimetype": "text/x-python",
   "name": "python",
   "nbconvert_exporter": "python",
   "pygments_lexer": "ipython3",
   "version": "3.7.2"
  }
 },
 "nbformat": 4,
 "nbformat_minor": 2
}
