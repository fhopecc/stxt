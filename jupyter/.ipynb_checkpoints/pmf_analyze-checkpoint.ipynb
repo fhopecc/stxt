{
 "cells": [
  {
   "cell_type": "code",
   "execution_count": 27,
   "metadata": {},
   "outputs": [
    {
     "data": {
      "text/plain": [
       "Index(['主管機關代碼', '審計部機關代碼', '機關編碼', '機關名稱', '送審年', '送審月', '年度', '縣市代碼',\n",
       "       '教育部機關代碼', '請購單編號', '請購單明細序號', '總帳科目代碼', '子目', '子目名稱', '分支計畫代碼',\n",
       "       '分支計畫名稱', '用途代碼', '用人費用類別代碼', '用人費用類別名稱', '請購部門代碼', '請購部門名稱', '簽證數',\n",
       "       '請購金額', '摘要', '沖銷代碼'],\n",
       "      dtype='object')"
      ]
     },
     "execution_count": 27,
     "metadata": {},
     "output_type": "execute_result"
    }
   ],
   "source": [
    "import pandas as pd\n",
    "import numpy as np\n",
    "pd.options.display.max_colwidth=0 #顯示全部字串\n",
    "#付款憑單-集中支付檔-cetralized payment\n",
    "cp = pd.read_csv(r'D:\\gdrive\\教發108年2月月報\\ais\\資料匯出-20190609113350-付款憑單明細檔.csv')\n",
    "p = pd.read_csv(r'D:\\gdrive\\教發108年2月月報\\ais\\資料匯出-20190609113350-明細分類帳.csv')\n",
    "ais_code = pd.read_csv(r'D:\\gdrive\\教發108年2月月報\\ais\\資料匯出-20190609113350-基本代碼檔.csv')\n",
    "ap=pd.read_csv(r'D:\\gdrive\\教發108年2月月報\\ais\\資料匯出-20190609113350-請購單明細檔.csv')\n",
    "pay = pd.read_csv(r'D:\\gdrive\\教發108年2月月報\\ais\\資料匯出-20190609113350-支出傳票主檔.csv')\n",
    "ap.columns"
   ]
  },
  {
   "cell_type": "code",
   "execution_count": 44,
   "metadata": {},
   "outputs": [
    {
     "name": "stderr",
     "output_type": "stream",
     "text": [
      "c:\\python37\\lib\\site-packages\\ipykernel_launcher.py:16: SettingWithCopyWarning: \n",
      "A value is trying to be set on a copy of a slice from a DataFrame.\n",
      "Try using .loc[row_indexer,col_indexer] = value instead\n",
      "\n",
      "See the caveats in the documentation: http://pandas.pydata.org/pandas-docs/stable/indexing.html#indexing-view-versus-copy\n",
      "  app.launch_new_instance()\n"
     ]
    }
   ],
   "source": [
    "#請購明細是支出分類最細\n",
    "#排除退還保證金\n",
    "ap1 = ap[~ap['子目名稱'].str.contains('保證',na=False)]\n",
    "#排除分支計畫為經常門者\n",
    "ap2 = ap1[~ap1['分支計畫名稱'].str.contains('各校經常門分支計畫',na=False)]\n",
    "#排除摘要顯非工程者\n",
    "ap3 = ap2[~ap2['摘要'].str.contains('教材印刷|弈宣設計|室外佈告欄設備|字幕機設備工程|內頁設計|電梯保養費|結餘款|美術班設計課|希望工程|美術設計', na=False)]\n",
    "\n",
    "ap4 = ap3[ap3['摘要'].str.contains('工程|設計|監造',na=False)]\n",
    "ap4.to_csv(\"pmf_overexpend.csv\")\n",
    "ap4[['機關名稱', '年度', '請購單編號', '請購單明細序號' , '摘要', '請購金額'\n",
    "                                        ,'總帳科目代碼', '子目', '子目名稱', '分支計畫代碼'\n",
    "                                        ,'分支計畫名稱', '用途代碼']\n",
    "                                        ].sort_values(['機關名稱', '請購金額'], ascending=[False,False])\n",
    "#加入工程類形判斷\n",
    "ap4['費用類型']=np.where(ap4['摘要'].str.contains('工程管理|設計|監造|督導|旅費|事務所',na=False), '工程管理費', '工程款')\n",
    "\n",
    "ap4[['費用類型', '摘要']]\n",
    "ap4.to_csv(\"pmf_overexpand.csv\")"
   ]
  },
  {
   "cell_type": "code",
   "execution_count": null,
   "metadata": {},
   "outputs": [],
   "source": []
  }
 ],
 "metadata": {
  "kernelspec": {
   "display_name": "Python 3",
   "language": "python",
   "name": "python3"
  },
  "language_info": {
   "codemirror_mode": {
    "name": "ipython",
    "version": 3
   },
   "file_extension": ".py",
   "mimetype": "text/x-python",
   "name": "python",
   "nbconvert_exporter": "python",
   "pygments_lexer": "ipython3",
   "version": "3.7.2"
  }
 },
 "nbformat": 4,
 "nbformat_minor": 2
}
