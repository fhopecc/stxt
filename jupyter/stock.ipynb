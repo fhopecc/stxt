{
 "cells": [
  {
   "cell_type": "code",
   "execution_count": 36,
   "metadata": {},
   "outputs": [
    {
     "data": {
      "text/html": [
       "<div>\n",
       "<style scoped>\n",
       "    .dataframe tbody tr th:only-of-type {\n",
       "        vertical-align: middle;\n",
       "    }\n",
       "\n",
       "    .dataframe tbody tr th {\n",
       "        vertical-align: top;\n",
       "    }\n",
       "\n",
       "    .dataframe thead th {\n",
       "        text-align: right;\n",
       "    }\n",
       "</style>\n",
       "<table border=\"1\" class=\"dataframe\">\n",
       "  <thead>\n",
       "    <tr style=\"text-align: right;\">\n",
       "      <th></th>\n",
       "      <th>代號</th>\n",
       "      <th>名稱</th>\n",
       "      <th>市場別</th>\n",
       "      <th>開盤參考價</th>\n",
       "      <th>Unnamed: 4</th>\n",
       "    </tr>\n",
       "  </thead>\n",
       "  <tbody>\n",
       "    <tr>\n",
       "      <th>560</th>\n",
       "      <td>2891</td>\n",
       "      <td>中信金</td>\n",
       "      <td>集中市場</td>\n",
       "      <td>20.85</td>\n",
       "      <td>NaN</td>\n",
       "    </tr>\n",
       "  </tbody>\n",
       "</table>\n",
       "</div>"
      ],
      "text/plain": [
       "       代號             名稱   市場別  開盤參考價  Unnamed: 4\n",
       "560  2891  中信金            集中市場  20.85         NaN"
      ]
     },
     "execution_count": 36,
     "metadata": {},
     "output_type": "execute_result"
    }
   ],
   "source": [
    "import pandas as pd\n",
    "import numpy as np\n",
    "from datetime import date, timedelta\n",
    "twt72url = \"https://www.twse.com.tw/exchangeReport/TWT72U?response=csv&date=\"+(date.today()-timedelta(days=1)).strftime(\"%Y%m%d\")+\"&selectType=SLBNLB\"\n",
    "twt60url = \"https://www.twse.com.tw/exchangeReport/TWT60U?response=csv\"\n",
    "twt72 = pd.read_csv(twt72url\n",
    "                   , encoding=\"cp950\"\n",
    "                   , header=1)\n",
    "twt72[twt72[\"證券名稱\"].str.contains(\"智基|崑鼎|新麥\", na=False)]\n",
    "twt60 = pd.read_csv(twt60url\n",
    "                   , encoding=\"cp950\"\n",
    "                   , header=1)\n",
    "twt60[twt60[\"名稱\"].str.contains(\"中信金|智基|崑鼎|新麥\", na=False)]"
   ]
  },
  {
   "cell_type": "code",
   "execution_count": null,
   "metadata": {},
   "outputs": [],
   "source": []
  }
 ],
 "metadata": {
  "kernelspec": {
   "display_name": "Python 3",
   "language": "python",
   "name": "python3"
  },
  "language_info": {
   "codemirror_mode": {
    "name": "ipython",
    "version": 3
   },
   "file_extension": ".py",
   "mimetype": "text/x-python",
   "name": "python",
   "nbconvert_exporter": "python",
   "pygments_lexer": "ipython3",
   "version": "3.7.2"
  }
 },
 "nbformat": 4,
 "nbformat_minor": 2
}
