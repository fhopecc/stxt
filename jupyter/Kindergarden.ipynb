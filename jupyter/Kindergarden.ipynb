{
 "cells": [
  {
   "cell_type": "code",
   "execution_count": 1,
   "metadata": {},
   "outputs": [],
   "source": [
    "#幼兒園查核\n",
    "#營業登記\n",
    "import pandas as pd\n",
    "import numpy as np\n",
    "import editdistance as ed\n",
    "pd.options.display.max_colwidth=0 #顯示全部字串\n"
   ]
  },
  {
   "cell_type": "code",
   "execution_count": 4,
   "metadata": {},
   "outputs": [
    {
     "data": {
      "text/html": [
       "<div>\n",
       "<style scoped>\n",
       "    .dataframe tbody tr th:only-of-type {\n",
       "        vertical-align: middle;\n",
       "    }\n",
       "\n",
       "    .dataframe tbody tr th {\n",
       "        vertical-align: top;\n",
       "    }\n",
       "\n",
       "    .dataframe thead th {\n",
       "        text-align: right;\n",
       "    }\n",
       "</style>\n",
       "<table border=\"1\" class=\"dataframe\">\n",
       "  <thead>\n",
       "    <tr style=\"text-align: right;\">\n",
       "      <th></th>\n",
       "      <th>營業地址</th>\n",
       "      <th>統一編號</th>\n",
       "      <th>總機構統一編號</th>\n",
       "      <th>營業人名稱</th>\n",
       "      <th>資本額</th>\n",
       "      <th>設立日期</th>\n",
       "      <th>組織別名稱</th>\n",
       "      <th>使用統一發票</th>\n",
       "      <th>行業代號</th>\n",
       "      <th>名稱</th>\n",
       "      <th>行業代號1</th>\n",
       "      <th>名稱1</th>\n",
       "      <th>行業代號2</th>\n",
       "      <th>名稱2</th>\n",
       "      <th>行業代號3</th>\n",
       "      <th>名稱3</th>\n",
       "    </tr>\n",
       "  </thead>\n",
       "  <tbody>\n",
       "  </tbody>\n",
       "</table>\n",
       "</div>"
      ],
      "text/plain": [
       "Empty DataFrame\n",
       "Columns: [營業地址, 統一編號, 總機構統一編號, 營業人名稱, 資本額, 設立日期, 組織別名稱, 使用統一發票, 行業代號, 名稱, 行業代號1, 名稱1, 行業代號2, 名稱2, 行業代號3, 名稱3]\n",
       "Index: []"
      ]
     },
     "execution_count": 4,
     "metadata": {},
     "output_type": "execute_result"
    }
   ],
   "source": [
    "bgm[bgm['名稱'].str.contains('')]"
   ]
  },
  {
   "cell_type": "code",
   "execution_count": null,
   "metadata": {},
   "outputs": [],
   "source": []
  }
 ],
 "metadata": {
  "kernelspec": {
   "display_name": "Python 3",
   "language": "python",
   "name": "python3"
  },
  "language_info": {
   "codemirror_mode": {
    "name": "ipython",
    "version": 3
   },
   "file_extension": ".py",
   "mimetype": "text/x-python",
   "name": "python",
   "nbconvert_exporter": "python",
   "pygments_lexer": "ipython3",
   "version": "3.7.2"
  }
 },
 "nbformat": 4,
 "nbformat_minor": 2
}
